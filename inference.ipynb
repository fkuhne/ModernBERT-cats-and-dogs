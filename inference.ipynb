{
 "cells": [
  {
   "cell_type": "code",
   "execution_count": 1,
   "metadata": {},
   "outputs": [],
   "source": [
    "from transformers import pipeline"
   ]
  },
  {
   "cell_type": "code",
   "execution_count": null,
   "metadata": {},
   "outputs": [
    {
     "name": "stderr",
     "output_type": "stream",
     "text": [
      "Device set to use mps:0\n"
     ]
    }
   ],
   "source": [
    "# Load the model published in Hugging Face\n",
    "model_id = \"fkuhne/ModernBERT-cats-and-dogs\"\n",
    "\n",
    "# Load the model locally stored in this repo\n",
    "model_path = \".models/ModernBERT-cats-and-dogs\"\n",
    "\n",
    "classifier = pipeline(\n",
    "    task = \"text-classification\", \n",
    "    model = model_path, # Choose here between remote or local model\n",
    "    device = 0,\n",
    ")"
   ]
  },
  {
   "cell_type": "code",
   "execution_count": 3,
   "metadata": {},
   "outputs": [
    {
     "name": "stderr",
     "output_type": "stream",
     "text": [
      "Compiling the model with `torch.compile` and using a `torch.mps` device is not supported. Falling back to non-compiled mode.\n"
     ]
    },
    {
     "data": {
      "text/plain": [
       "[{'label': 'cats', 'score': 0.9948537945747375},\n",
       " {'label': 'cats', 'score': 0.5038659572601318},\n",
       " {'label': 'cats', 'score': 0.9988971948623657},\n",
       " {'label': 'cats', 'score': 0.9992813467979431},\n",
       " {'label': 'dogs', 'score': 0.4067465662956238},\n",
       " {'label': 'cats', 'score': 0.9982790946960449},\n",
       " {'label': 'cats', 'score': 0.7891101837158203},\n",
       " {'label': 'cats', 'score': 0.9976869821548462},\n",
       " {'label': 'undefined', 'score': 0.630783200263977},\n",
       " {'label': 'cats', 'score': 0.9993832111358643}]"
      ]
     },
     "execution_count": 3,
     "metadata": {},
     "output_type": "execute_result"
    }
   ],
   "source": [
    "cat_sentences = [\n",
    "    \"My cat's been knocking stuff off the counter all morning.\",\n",
    "    \"Luna's favorite spot is the sunny patch on the couch.\",\n",
    "    \"Why does my cat always sit on my laptop when I'm working?\",\n",
    "    \"I swear my cat thinks she's the queen of the house.\",\n",
    "    \"Whiskers won't stop chasing the laser pointer; it's hilarious!\",\n",
    "    \"Every time I open a can, my cat thinks it's food for him.\",\n",
    "    \"Fluffy just stares out the window like she's plotting something.\",\n",
    "    \"I found my cat napping in the laundry basket again.\",\n",
    "    \"Oliver always sneaks into the bathroom when I shower; it's so weird.\",\n",
    "    \"My cat acts like he owns the place but gets scared of cucumbers.\"\n",
    "]\n",
    "\n",
    "classifier(cat_sentences)"
   ]
  },
  {
   "cell_type": "code",
   "execution_count": 4,
   "metadata": {},
   "outputs": [
    {
     "data": {
      "text/plain": [
       "[{'label': 'dogs', 'score': 0.9969923496246338},\n",
       " {'label': 'dogs', 'score': 0.9156569242477417},\n",
       " {'label': 'dogs', 'score': 0.4437048137187958},\n",
       " {'label': 'cats', 'score': 0.38365256786346436},\n",
       " {'label': 'dogs', 'score': 0.9987142086029053},\n",
       " {'label': 'dogs', 'score': 0.8189221620559692},\n",
       " {'label': 'undefined', 'score': 0.5963717699050903},\n",
       " {'label': 'dogs', 'score': 0.6164171099662781},\n",
       " {'label': 'dogs', 'score': 0.7947445511817932},\n",
       " {'label': 'dogs', 'score': 0.9796733856201172}]"
      ]
     },
     "execution_count": 4,
     "metadata": {},
     "output_type": "execute_result"
    }
   ],
   "source": [
    "dog_sentences = [\n",
    "    \"My dog gets so excited every time I grab his leash.\",\n",
    "    \"Charlie will do anything for a treat; he's such a foodie.\",\n",
    "    \"Every time I sit down, Max brings me his favorite toy.\",\n",
    "    \"Bella goes crazy barking at the mailman every single day.\",\n",
    "    \"My dog loves car rides, especially when we roll the windows down.\",\n",
    "    \"Rex just learned to shake hands, and he won't stop showing off.\",\n",
    "    \"Every time I come home, Luna acts like she hasn't seen me in years.\",\n",
    "    \"Why does my dog always insist on sleeping on my feet?\",\n",
    "    \"Cooper chases his tail like it's the funniest game in the world.\",\n",
    "    \"My dog refuses to walk in the rain; he just stares at me like I'm crazy.\"\n",
    "]\n",
    "\n",
    "classifier(dog_sentences)"
   ]
  },
  {
   "cell_type": "code",
   "execution_count": 5,
   "metadata": {},
   "outputs": [
    {
     "data": {
      "text/plain": [
       "[{'label': 'undefined', 'score': 0.9988763928413391},\n",
       " {'label': 'undefined', 'score': 0.9985508322715759},\n",
       " {'label': 'undefined', 'score': 0.6216027736663818},\n",
       " {'label': 'undefined', 'score': 0.9441631436347961},\n",
       " {'label': 'undefined', 'score': 0.969209611415863},\n",
       " {'label': 'undefined', 'score': 0.8831620812416077},\n",
       " {'label': 'undefined', 'score': 0.7762302756309509},\n",
       " {'label': 'undefined', 'score': 0.9586235880851746},\n",
       " {'label': 'undefined', 'score': 0.7779261469841003},\n",
       " {'label': 'undefined', 'score': 0.9915920495986938}]"
      ]
     },
     "execution_count": 5,
     "metadata": {},
     "output_type": "execute_result"
    }
   ],
   "source": [
    "random_sentences = [\n",
    "    \"I can’t believe how quickly technology changes these days.\",\n",
    "    \"The sunset last night was absolutely breathtaking with all those colors.\",\n",
    "    \"I’ve been binge-watching that new sci-fi show, and it’s so addictive.\",\n",
    "    \"My favorite coffee shop just started serving pumpkin spice lattes again.\",\n",
    "    \"I finally finished that 1,000-piece puzzle, and it felt so satisfying.\",\n",
    "    \"Why does time go by so fast when you’re on vacation?\",\n",
    "    \"I tried cooking a new recipe, and it turned out way better than I expected.\",\n",
    "    \"The book I’m reading has such a twisty plot; I can’t put it down.\",\n",
    "    \"I keep forgetting where I left my keys; it’s becoming a daily mystery.\",\n",
    "    \"The sound of rain on the roof always makes me feel so cozy.\"\n",
    "]\n",
    "\n",
    "classifier(random_sentences)"
   ]
  }
 ],
 "metadata": {
  "kernelspec": {
   "display_name": ".venv",
   "language": "python",
   "name": "python3"
  },
  "language_info": {
   "codemirror_mode": {
    "name": "ipython",
    "version": 3
   },
   "file_extension": ".py",
   "mimetype": "text/x-python",
   "name": "python",
   "nbconvert_exporter": "python",
   "pygments_lexer": "ipython3",
   "version": "3.10.16"
  }
 },
 "nbformat": 4,
 "nbformat_minor": 2
}
