{
 "cells": [
  {
   "cell_type": "code",
   "execution_count": 1,
   "metadata": {},
   "outputs": [],
   "source": [
    "from transformers import pipeline"
   ]
  },
  {
   "cell_type": "code",
   "execution_count": 6,
   "metadata": {},
   "outputs": [
    {
     "data": {
      "application/vnd.jupyter.widget-view+json": {
       "model_id": "1e162f1d093941518db75422aa56a376",
       "version_major": 2,
       "version_minor": 0
      },
      "text/plain": [
       "model.safetensors:   0%|          | 0.00/598M [00:00<?, ?B/s]"
      ]
     },
     "metadata": {},
     "output_type": "display_data"
    },
    {
     "name": "stderr",
     "output_type": "stream",
     "text": [
      "Device set to use mps:0\n"
     ]
    }
   ],
   "source": [
    "# Load the model published in Hugging Face\n",
    "model_id = \"fkuhne/ModernBERT-cats-and-dogs\"\n",
    "\n",
    "# Load the model locally stored in this repo\n",
    "model_path = \".models/ModernBERT-cats-and-dogs\"\n",
    "\n",
    "classifier = pipeline(\n",
    "    task = \"text-classification\", \n",
    "    model = model_id, # Choose here between remote or local model\n",
    "    device = 0,\n",
    ")"
   ]
  },
  {
   "cell_type": "code",
   "execution_count": 7,
   "metadata": {},
   "outputs": [
    {
     "data": {
      "text/plain": [
       "[{'label': 'cats', 'score': 0.9999934434890747},\n",
       " {'label': 'cats', 'score': 0.9923310279846191},\n",
       " {'label': 'cats', 'score': 0.9999994039535522},\n",
       " {'label': 'cats', 'score': 0.9999998807907104},\n",
       " {'label': 'cats', 'score': 0.9940768480300903},\n",
       " {'label': 'cats', 'score': 0.9999997615814209},\n",
       " {'label': 'cats', 'score': 0.998050332069397},\n",
       " {'label': 'cats', 'score': 0.9999998807907104},\n",
       " {'label': 'undefined', 'score': 0.9594419002532959},\n",
       " {'label': 'cats', 'score': 1.0}]"
      ]
     },
     "execution_count": 7,
     "metadata": {},
     "output_type": "execute_result"
    }
   ],
   "source": [
    "cat_sentences = [\n",
    "    \"My cat's been knocking stuff off the counter all morning.\",\n",
    "    \"Luna's favorite spot is the sunny patch on the couch.\",\n",
    "    \"Why does my cat always sit on my laptop when I'm working?\",\n",
    "    \"I swear my cat thinks she's the queen of the house.\",\n",
    "    \"Whiskers won't stop chasing the laser pointer; it's hilarious!\",\n",
    "    \"Every time I open a can, my cat thinks it's food for him.\",\n",
    "    \"Fluffy just stares out the window like she's plotting something.\",\n",
    "    \"I found my cat napping in the laundry basket again.\",\n",
    "    \"Oliver always sneaks into the bathroom when I shower; it's so weird.\",\n",
    "    \"My cat acts like he owns the place but gets scared of cucumbers.\"\n",
    "]\n",
    "\n",
    "classifier(cat_sentences)"
   ]
  },
  {
   "cell_type": "code",
   "execution_count": 8,
   "metadata": {},
   "outputs": [
    {
     "data": {
      "text/plain": [
       "[{'label': 'dogs', 'score': 0.9999996423721313},\n",
       " {'label': 'dogs', 'score': 0.9321503043174744},\n",
       " {'label': 'dogs', 'score': 0.7822593450546265},\n",
       " {'label': 'cats', 'score': 0.9237090945243835},\n",
       " {'label': 'dogs', 'score': 0.9999973773956299},\n",
       " {'label': 'cats', 'score': 0.7796003222465515},\n",
       " {'label': 'cats', 'score': 0.8476717472076416},\n",
       " {'label': 'dogs', 'score': 0.9999997615814209},\n",
       " {'label': 'cats', 'score': 0.9893675446510315},\n",
       " {'label': 'dogs', 'score': 0.999998927116394}]"
      ]
     },
     "execution_count": 8,
     "metadata": {},
     "output_type": "execute_result"
    }
   ],
   "source": [
    "dog_sentences = [\n",
    "    \"My dog gets so excited every time I grab his leash.\",\n",
    "    \"Charlie will do anything for a treat; he's such a foodie.\",\n",
    "    \"Every time I sit down, Max brings me his favorite toy.\",\n",
    "    \"Bella goes crazy barking at the mailman every single day.\",\n",
    "    \"My dog loves car rides, especially when we roll the windows down.\",\n",
    "    \"Rex just learned to shake hands, and he won't stop showing off.\",\n",
    "    \"Every time I come home, Luna acts like she hasn't seen me in years.\",\n",
    "    \"Why does my dog always insist on sleeping on my feet?\",\n",
    "    \"Cooper chases his tail like it's the funniest game in the world.\",\n",
    "    \"My dog refuses to walk in the rain; he just stares at me like I'm crazy.\"\n",
    "]\n",
    "\n",
    "classifier(dog_sentences)"
   ]
  },
  {
   "cell_type": "code",
   "execution_count": 9,
   "metadata": {},
   "outputs": [
    {
     "data": {
      "text/plain": [
       "[{'label': 'undefined', 'score': 0.9999809265136719},\n",
       " {'label': 'undefined', 'score': 0.9999967813491821},\n",
       " {'label': 'undefined', 'score': 0.9997269511222839},\n",
       " {'label': 'undefined', 'score': 0.9966561794281006},\n",
       " {'label': 'undefined', 'score': 0.999990701675415},\n",
       " {'label': 'undefined', 'score': 0.9999407529830933},\n",
       " {'label': 'undefined', 'score': 0.9959294199943542},\n",
       " {'label': 'undefined', 'score': 0.9998584985733032},\n",
       " {'label': 'undefined', 'score': 0.995305061340332},\n",
       " {'label': 'undefined', 'score': 0.9962389469146729}]"
      ]
     },
     "execution_count": 9,
     "metadata": {},
     "output_type": "execute_result"
    }
   ],
   "source": [
    "random_sentences = [\n",
    "    \"I can’t believe how quickly technology changes these days.\",\n",
    "    \"The sunset last night was absolutely breathtaking with all those colors.\",\n",
    "    \"I’ve been binge-watching that new sci-fi show, and it’s so addictive.\",\n",
    "    \"My favorite coffee shop just started serving pumpkin spice lattes again.\",\n",
    "    \"I finally finished that 1,000-piece puzzle, and it felt so satisfying.\",\n",
    "    \"Why does time go by so fast when you’re on vacation?\",\n",
    "    \"I tried cooking a new recipe, and it turned out way better than I expected.\",\n",
    "    \"The book I’m reading has such a twisty plot; I can’t put it down.\",\n",
    "    \"I keep forgetting where I left my keys; it’s becoming a daily mystery.\",\n",
    "    \"The sound of rain on the roof always makes me feel so cozy.\"\n",
    "]\n",
    "\n",
    "classifier(random_sentences)"
   ]
  }
 ],
 "metadata": {
  "kernelspec": {
   "display_name": ".venv",
   "language": "python",
   "name": "python3"
  },
  "language_info": {
   "codemirror_mode": {
    "name": "ipython",
    "version": 3
   },
   "file_extension": ".py",
   "mimetype": "text/x-python",
   "name": "python",
   "nbconvert_exporter": "python",
   "pygments_lexer": "ipython3",
   "version": "3.10.16"
  }
 },
 "nbformat": 4,
 "nbformat_minor": 2
}
